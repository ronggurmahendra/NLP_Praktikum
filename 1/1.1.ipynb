{
 "cells": [
  {
   "cell_type": "markdown",
   "metadata": {},
   "source": [
    "# Praktikum 1.1 Natural Language Processing \n",
    "\n",
    "### Nama : Ronggur Mahendra Widya Putra\n",
    "### NIM : 13519008"
   ]
  },
  {
   "cell_type": "code",
   "execution_count": 1,
   "metadata": {},
   "outputs": [],
   "source": [
    "#Import Libraries\n",
    "import tensorflow as tf\n",
    "import pandas as pd\n",
    "import numpy as np\n",
    "from tensorflow.keras.layers import Embedding, LSTM, Dense, Bidirectional\n",
    "from tensorflow.keras.models import Sequential\n",
    "from tensorflow.keras.preprocessing.text import Tokenizer\n",
    "from tensorflow.keras.preprocessing.sequence import pad_sequences\n",
    "from sklearn.model_selection import train_test_split\n",
    "from datasets import load_dataset\n",
    "from keras.layers import Dense\n",
    "from keras.utils.vis_utils import plot_model"
   ]
  },
  {
   "cell_type": "code",
   "execution_count": 2,
   "metadata": {},
   "outputs": [
    {
     "data": {
      "text/html": [
       "<div>\n",
       "<style scoped>\n",
       "    .dataframe tbody tr th:only-of-type {\n",
       "        vertical-align: middle;\n",
       "    }\n",
       "\n",
       "    .dataframe tbody tr th {\n",
       "        vertical-align: top;\n",
       "    }\n",
       "\n",
       "    .dataframe thead th {\n",
       "        text-align: right;\n",
       "    }\n",
       "</style>\n",
       "<table border=\"1\" class=\"dataframe\">\n",
       "  <thead>\n",
       "    <tr style=\"text-align: right;\">\n",
       "      <th></th>\n",
       "      <th>text</th>\n",
       "      <th>label</th>\n",
       "    </tr>\n",
       "  </thead>\n",
       "  <tbody>\n",
       "    <tr>\n",
       "      <th>0</th>\n",
       "      <td>− Scope 3: Optional scope that includes indire...</td>\n",
       "      <td>1</td>\n",
       "    </tr>\n",
       "    <tr>\n",
       "      <th>1</th>\n",
       "      <td>The Group is not aware of any noise pollution ...</td>\n",
       "      <td>0</td>\n",
       "    </tr>\n",
       "    <tr>\n",
       "      <th>2</th>\n",
       "      <td>Global climate change could exacerbate certain...</td>\n",
       "      <td>0</td>\n",
       "    </tr>\n",
       "    <tr>\n",
       "      <th>3</th>\n",
       "      <td>Setting an investment horizon is part and parc...</td>\n",
       "      <td>0</td>\n",
       "    </tr>\n",
       "    <tr>\n",
       "      <th>4</th>\n",
       "      <td>Climate change the physical impacts of climate...</td>\n",
       "      <td>0</td>\n",
       "    </tr>\n",
       "    <tr>\n",
       "      <th>5</th>\n",
       "      <td>Projects with potential limited adverse social...</td>\n",
       "      <td>0</td>\n",
       "    </tr>\n",
       "    <tr>\n",
       "      <th>6</th>\n",
       "      <td>We emitted 13.4 million tonnes CO2 of Scope 2 ...</td>\n",
       "      <td>1</td>\n",
       "    </tr>\n",
       "    <tr>\n",
       "      <th>7</th>\n",
       "      <td>We do not provide normalised figures for our C...</td>\n",
       "      <td>1</td>\n",
       "    </tr>\n",
       "    <tr>\n",
       "      <th>8</th>\n",
       "      <td>We anticipate that the potential effects of cl...</td>\n",
       "      <td>0</td>\n",
       "    </tr>\n",
       "    <tr>\n",
       "      <th>9</th>\n",
       "      <td>Enhancing our responsible screening criteria N...</td>\n",
       "      <td>0</td>\n",
       "    </tr>\n",
       "  </tbody>\n",
       "</table>\n",
       "</div>"
      ],
      "text/plain": [
       "                                                text  label\n",
       "0  − Scope 3: Optional scope that includes indire...      1\n",
       "1  The Group is not aware of any noise pollution ...      0\n",
       "2  Global climate change could exacerbate certain...      0\n",
       "3  Setting an investment horizon is part and parc...      0\n",
       "4  Climate change the physical impacts of climate...      0\n",
       "5  Projects with potential limited adverse social...      0\n",
       "6  We emitted 13.4 million tonnes CO2 of Scope 2 ...      1\n",
       "7  We do not provide normalised figures for our C...      1\n",
       "8  We anticipate that the potential effects of cl...      0\n",
       "9  Enhancing our responsible screening criteria N...      0"
      ]
     },
     "execution_count": 2,
     "metadata": {},
     "output_type": "execute_result"
    }
   ],
   "source": [
    "# Load Train data\n",
    "train_df = pd.read_parquet('./data/train-00000-of-00001-04b49ae22f595095.parquet', engine='pyarrow')\n",
    "train_df.head(10)"
   ]
  },
  {
   "cell_type": "code",
   "execution_count": 3,
   "metadata": {},
   "outputs": [
    {
     "data": {
      "text/html": [
       "<div>\n",
       "<style scoped>\n",
       "    .dataframe tbody tr th:only-of-type {\n",
       "        vertical-align: middle;\n",
       "    }\n",
       "\n",
       "    .dataframe tbody tr th {\n",
       "        vertical-align: top;\n",
       "    }\n",
       "\n",
       "    .dataframe thead th {\n",
       "        text-align: right;\n",
       "    }\n",
       "</style>\n",
       "<table border=\"1\" class=\"dataframe\">\n",
       "  <thead>\n",
       "    <tr style=\"text-align: right;\">\n",
       "      <th></th>\n",
       "      <th>label</th>\n",
       "    </tr>\n",
       "  </thead>\n",
       "  <tbody>\n",
       "    <tr>\n",
       "      <th>count</th>\n",
       "      <td>1000.000000</td>\n",
       "    </tr>\n",
       "    <tr>\n",
       "      <th>mean</th>\n",
       "      <td>0.908000</td>\n",
       "    </tr>\n",
       "    <tr>\n",
       "      <th>std</th>\n",
       "      <td>0.764278</td>\n",
       "    </tr>\n",
       "    <tr>\n",
       "      <th>min</th>\n",
       "      <td>0.000000</td>\n",
       "    </tr>\n",
       "    <tr>\n",
       "      <th>25%</th>\n",
       "      <td>0.000000</td>\n",
       "    </tr>\n",
       "    <tr>\n",
       "      <th>50%</th>\n",
       "      <td>1.000000</td>\n",
       "    </tr>\n",
       "    <tr>\n",
       "      <th>75%</th>\n",
       "      <td>1.250000</td>\n",
       "    </tr>\n",
       "    <tr>\n",
       "      <th>max</th>\n",
       "      <td>2.000000</td>\n",
       "    </tr>\n",
       "  </tbody>\n",
       "</table>\n",
       "</div>"
      ],
      "text/plain": [
       "             label\n",
       "count  1000.000000\n",
       "mean      0.908000\n",
       "std       0.764278\n",
       "min       0.000000\n",
       "25%       0.000000\n",
       "50%       1.000000\n",
       "75%       1.250000\n",
       "max       2.000000"
      ]
     },
     "execution_count": 3,
     "metadata": {},
     "output_type": "execute_result"
    }
   ],
   "source": [
    "train_df.describe()"
   ]
  },
  {
   "cell_type": "code",
   "execution_count": 4,
   "metadata": {},
   "outputs": [],
   "source": [
    "train_df_data  = train_df['text'].to_list()\n",
    "train_df_label = train_df['label'].to_list()"
   ]
  },
  {
   "cell_type": "code",
   "execution_count": 5,
   "metadata": {},
   "outputs": [],
   "source": [
    "# Split data\n",
    "train_data, val_data, train_label, val_label  = train_test_split(train_df_data, train_df_label, test_size=0.2, random_state=230907)\n"
   ]
  },
  {
   "cell_type": "code",
   "execution_count": 6,
   "metadata": {},
   "outputs": [
    {
     "data": {
      "text/html": [
       "<div>\n",
       "<style scoped>\n",
       "    .dataframe tbody tr th:only-of-type {\n",
       "        vertical-align: middle;\n",
       "    }\n",
       "\n",
       "    .dataframe tbody tr th {\n",
       "        vertical-align: top;\n",
       "    }\n",
       "\n",
       "    .dataframe thead th {\n",
       "        text-align: right;\n",
       "    }\n",
       "</style>\n",
       "<table border=\"1\" class=\"dataframe\">\n",
       "  <thead>\n",
       "    <tr style=\"text-align: right;\">\n",
       "      <th></th>\n",
       "      <th>text</th>\n",
       "      <th>label</th>\n",
       "    </tr>\n",
       "  </thead>\n",
       "  <tbody>\n",
       "    <tr>\n",
       "      <th>0</th>\n",
       "      <td>Sustainable strategy ‘red lines’ For our susta...</td>\n",
       "      <td>0</td>\n",
       "    </tr>\n",
       "    <tr>\n",
       "      <th>1</th>\n",
       "      <td>Verizon’s environmental, health and safety man...</td>\n",
       "      <td>1</td>\n",
       "    </tr>\n",
       "    <tr>\n",
       "      <th>2</th>\n",
       "      <td>In 2019, the Company closed a series of transa...</td>\n",
       "      <td>1</td>\n",
       "    </tr>\n",
       "    <tr>\n",
       "      <th>3</th>\n",
       "      <td>In December 2020, the AUC approved the Electri...</td>\n",
       "      <td>0</td>\n",
       "    </tr>\n",
       "    <tr>\n",
       "      <th>4</th>\n",
       "      <td>Finally, there is a reputational risk linked t...</td>\n",
       "      <td>0</td>\n",
       "    </tr>\n",
       "    <tr>\n",
       "      <th>5</th>\n",
       "      <td>Ecoefficiency Eco-efficiency management provid...</td>\n",
       "      <td>1</td>\n",
       "    </tr>\n",
       "    <tr>\n",
       "      <th>6</th>\n",
       "      <td>The Group and its customers are exposed to cli...</td>\n",
       "      <td>0</td>\n",
       "    </tr>\n",
       "    <tr>\n",
       "      <th>7</th>\n",
       "      <td>Both our Board and executive leadership team r...</td>\n",
       "      <td>1</td>\n",
       "    </tr>\n",
       "    <tr>\n",
       "      <th>8</th>\n",
       "      <td>Although it is intended that governments will ...</td>\n",
       "      <td>1</td>\n",
       "    </tr>\n",
       "    <tr>\n",
       "      <th>9</th>\n",
       "      <td>Climate-related risks and opportunities have g...</td>\n",
       "      <td>0</td>\n",
       "    </tr>\n",
       "  </tbody>\n",
       "</table>\n",
       "</div>"
      ],
      "text/plain": [
       "                                                text  label\n",
       "0  Sustainable strategy ‘red lines’ For our susta...      0\n",
       "1  Verizon’s environmental, health and safety man...      1\n",
       "2  In 2019, the Company closed a series of transa...      1\n",
       "3  In December 2020, the AUC approved the Electri...      0\n",
       "4  Finally, there is a reputational risk linked t...      0\n",
       "5  Ecoefficiency Eco-efficiency management provid...      1\n",
       "6  The Group and its customers are exposed to cli...      0\n",
       "7  Both our Board and executive leadership team r...      1\n",
       "8  Although it is intended that governments will ...      1\n",
       "9  Climate-related risks and opportunities have g...      0"
      ]
     },
     "execution_count": 6,
     "metadata": {},
     "output_type": "execute_result"
    }
   ],
   "source": [
    "# load test data\n",
    "test_df = pd.read_parquet('./data/test-00000-of-00001-3f9f7af4f5914b8e.parquet', engine='pyarrow')\n",
    "test_df.head(10)\n"
   ]
  },
  {
   "cell_type": "code",
   "execution_count": 7,
   "metadata": {},
   "outputs": [],
   "source": [
    "test_data  = test_df['text'].to_list()\n",
    "test_label = test_df['label'].to_list()"
   ]
  },
  {
   "cell_type": "code",
   "execution_count": 8,
   "metadata": {},
   "outputs": [
    {
     "name": "stdout",
     "output_type": "stream",
     "text": [
      "train_label :  800\n",
      "train_label :  800\n",
      "val_label :  200\n",
      "val_label :  200\n",
      "test_data :  320\n",
      "test_label : 320\n"
     ]
    }
   ],
   "source": [
    "print(\"train_label : \", len(train_data))\n",
    "print(\"train_label : \",len(train_label))\n",
    "\n",
    "print(\"val_label : \", len(val_data))\n",
    "print(\"val_label : \",len(val_label))\n",
    "\n",
    "print(\"test_data : \",len(test_data))\n",
    "print(\"test_label :\",len(test_label))\n"
   ]
  },
  {
   "cell_type": "code",
   "execution_count": 9,
   "metadata": {},
   "outputs": [],
   "source": [
    "# Preprocess & Tokenize\n",
    "MAX_WORDS = 10000\n",
    "tokenizer = Tokenizer(num_words=MAX_WORDS)\n",
    "tokenizer.fit_on_texts(texts = train_data)\n",
    "\n",
    "train_sequences = tokenizer.texts_to_sequences(train_data)\n",
    "train_data_tokenized = pad_sequences(train_sequences, maxlen = 100)\n",
    "\n",
    "val_sequences = tokenizer.texts_to_sequences(val_data)\n",
    "val_data_tokenized = pad_sequences(val_sequences, maxlen = 100)\n",
    "\n",
    "test_sequences = tokenizer.texts_to_sequences(test_data)\n",
    "test_data_tokenized = pad_sequences(test_sequences, maxlen = 100)\n"
   ]
  },
  {
   "cell_type": "code",
   "execution_count": 10,
   "metadata": {},
   "outputs": [],
   "source": [
    "# Cast into numpy array \n",
    "train_data_tokenized = np.array(train_data_tokenized)\n",
    "train_label = np.array(train_label)\n",
    "\n",
    "val_data_tokenized = np.array(val_data_tokenized)\n",
    "val_label = np.array(val_label)\n",
    "\n",
    "test_data_tokenized = np.array(test_data_tokenized)\n",
    "test_label = np.array(test_label)"
   ]
  },
  {
   "cell_type": "markdown",
   "metadata": {},
   "source": [
    "# RNN/LSTM MODEL"
   ]
  },
  {
   "cell_type": "code",
   "execution_count": 11,
   "metadata": {},
   "outputs": [],
   "source": [
    "# Define Model\n",
    "# Hyper parameter sama dengan contoh di slide\n",
    "model_rnn = Sequential()\n",
    "model_rnn.add(Embedding(input_dim = MAX_WORDS, output_dim = 128, input_length = train_data_tokenized.shape[1]))\n",
    "model_rnn.add(Bidirectional(LSTM(64, return_sequences=True)))\n",
    "model_rnn.add(Bidirectional(LSTM(32)))\n",
    "model_rnn.add(Dense(1,activation='sigmoid'))\n"
   ]
  },
  {
   "cell_type": "code",
   "execution_count": 12,
   "metadata": {},
   "outputs": [
    {
     "name": "stdout",
     "output_type": "stream",
     "text": [
      "Model: \"sequential\"\n",
      "_________________________________________________________________\n",
      " Layer (type)                Output Shape              Param #   \n",
      "=================================================================\n",
      " embedding (Embedding)       (None, 100, 128)          1280000   \n",
      "                                                                 \n",
      " bidirectional (Bidirectiona  (None, 100, 128)         98816     \n",
      " l)                                                              \n",
      "                                                                 \n",
      " bidirectional_1 (Bidirectio  (None, 64)               41216     \n",
      " nal)                                                            \n",
      "                                                                 \n",
      " dense (Dense)               (None, 1)                 65        \n",
      "                                                                 \n",
      "=================================================================\n",
      "Total params: 1,420,097\n",
      "Trainable params: 1,420,097\n",
      "Non-trainable params: 0\n",
      "_________________________________________________________________\n",
      "None\n",
      "\n",
      "\n",
      "Model Visualize\n"
     ]
    },
    {
     "data": {
      "image/png": "[encoded data removed]",
      "text/plain": [
       "<IPython.core.display.Image object>"
      ]
     },
     "execution_count": 12,
     "metadata": {},
     "output_type": "execute_result"
    }
   ],
   "source": [
    "#compile model\n",
    "model_rnn.compile(loss='binary_crossentropy', optimizer='adam', metrics=['accuracy'])\n",
    "print(model_rnn.summary())\n",
    "print(\"\\n\\nModel Visualize\")\n",
    "plot_model(model_rnn, to_file='model_plot.png', show_shapes=True, show_layer_names=True)"
   ]
  },
  {
   "cell_type": "code",
   "execution_count": 13,
   "metadata": {},
   "outputs": [
    {
     "name": "stdout",
     "output_type": "stream",
     "text": [
      "Epoch 1/10\n",
      "25/25 [==============================] - 10s 98ms/step - loss: 0.4541 - accuracy: 0.3950 - val_loss: 0.8960 - val_accuracy: 0.4350\n",
      "Epoch 2/10\n",
      "25/25 [==============================] - 1s 33ms/step - loss: 0.1106 - accuracy: 0.4013 - val_loss: 0.0462 - val_accuracy: 0.4350\n",
      "Epoch 3/10\n",
      "25/25 [==============================] - 1s 33ms/step - loss: -0.8685 - accuracy: 0.4038 - val_loss: -0.7685 - val_accuracy: 0.4350\n",
      "Epoch 4/10\n",
      "25/25 [==============================] - 1s 28ms/step - loss: -1.9435 - accuracy: 0.4475 - val_loss: -1.3484 - val_accuracy: 0.5000\n",
      "Epoch 5/10\n",
      "25/25 [==============================] - 1s 30ms/step - loss: -3.0800 - accuracy: 0.6450 - val_loss: -1.6717 - val_accuracy: 0.6750\n",
      "Epoch 6/10\n",
      "25/25 [==============================] - 1s 35ms/step - loss: -3.9565 - accuracy: 0.7038 - val_loss: -2.4129 - val_accuracy: 0.6950\n",
      "Epoch 7/10\n",
      "25/25 [==============================] - 1s 35ms/step - loss: -4.5824 - accuracy: 0.7200 - val_loss: -2.5853 - val_accuracy: 0.7050\n",
      "Epoch 8/10\n",
      "25/25 [==============================] - 1s 34ms/step - loss: -5.2098 - accuracy: 0.7163 - val_loss: -3.0640 - val_accuracy: 0.6700\n",
      "Epoch 9/10\n",
      "25/25 [==============================] - 1s 31ms/step - loss: -5.7183 - accuracy: 0.7000 - val_loss: -2.8394 - val_accuracy: 0.6450\n",
      "Epoch 10/10\n",
      "25/25 [==============================] - 1s 28ms/step - loss: -6.3375 - accuracy: 0.7125 - val_loss: -2.8727 - val_accuracy: 0.6550\n"
     ]
    },
    {
     "data": {
      "text/plain": [
       "<keras.callbacks.History at 0x2cbb848f100>"
      ]
     },
     "execution_count": 13,
     "metadata": {},
     "output_type": "execute_result"
    }
   ],
   "source": [
    "# Train\n",
    "model_rnn.fit(train_data_tokenized, train_label, epochs=10, batch_size=32, validation_data=(val_data_tokenized, val_label))"
   ]
  },
  {
   "cell_type": "code",
   "execution_count": 14,
   "metadata": {},
   "outputs": [
    {
     "name": "stdout",
     "output_type": "stream",
     "text": [
      "10/10 [==============================] - 0s 12ms/step - loss: -2.1394 - accuracy: 0.7031\n",
      "loss:  -2.139361619949341\n",
      "accuracy:  0.703125\n"
     ]
    }
   ],
   "source": [
    "# Evaluate\n",
    "\n",
    "loss, acc = model_rnn.evaluate(test_data_tokenized, test_label)\n",
    "print(\"loss: \", loss)\n",
    "print(\"accuracy: \", acc)"
   ]
  },
  {
   "cell_type": "code",
   "execution_count": 15,
   "metadata": {},
   "outputs": [
    {
     "name": "stdout",
     "output_type": "stream",
     "text": [
      "1/1 [==============================] - 1s 1s/step\n",
      "Text: sustainable strategy for our sustainable strategy range we incorporate a series of proprietary in order to ensure the performing companies from an esg perspective are not eligible for investment \n",
      " Predicted Sentiment: positive\n",
      " Groundtruth: negative\n",
      "\n",
      "\n",
      "Text: environmental health and safety management system provides a framework for identifying and reducing the risks associated with the environments in which we operate regular management system assessments internal and third party compliance and inspections are performed annually at of facilities worldwide the goal of these assessments is to identify and correct site specific issues and to educate and empower facility managers and supervisors to implement corrective actions environment health and safety efforts are and supported by experienced experts around the world that support our operations and facilities \n",
      " Predicted Sentiment: positive\n",
      " Groundtruth: negative\n",
      "\n",
      "\n",
      "Text: in 2019 the company a series of transactions related to the sale of its canadian fossil fuel based electricity generation business a transaction with heartland generation ltd an of energy capital partners included the sale of 10 partly or fully owned natural gas fired and coal fired electricity generation assets located in alberta and british columbia in two other separate transactions the company sold its 50 per cent ownership interest in the cogeneration station to international and its 50 per cent ownership interest in beach power to power generation \n",
      " Predicted Sentiment: positive\n",
      " Groundtruth: negative\n",
      "\n",
      "\n",
      "Text: which would normally come into effect on january 1 2021 for both businesses the rate was to significant distribution rate increases which would be end use customers due to the approach of rate under the mechanism electricity distribution and natural gas distribution the current economic situation in alberta including the faced by some end use customers due to the covid 19 pandemic as rationale to proceed with these interim rates electricity distribution and natural gas distribution are to an application by march 1 2021 the of the rate and collection timelines expected values including costs and anticipated impacts to customers \n",
      " Predicted Sentiment: negative\n",
      " Groundtruth: negative\n",
      "\n",
      "\n",
      "Text: finally there is a reputational risk linked to the possibility that oil companies may be perceived by institutions and the general public as the entities mainly responsible of the climate change this could possibly make eni’s shares less attractive to investment funds and individual investors who assess the risk profile of companies against their environmental and social footprint when making investment decisions \n",
      " Predicted Sentiment: positive\n",
      " Groundtruth: negative\n",
      "\n",
      "\n"
     ]
    }
   ],
   "source": [
    "# Prediction\n",
    "prediction = model_rnn.predict(test_data_tokenized[:5])\n",
    "\n",
    "for text, prediction, groundtruth in zip(tokenizer.sequences_to_texts(test_data_tokenized), prediction, test_label[:5]):\n",
    "    sentiment = \"positive\" if prediction > 0.5 else \"negative\"\n",
    "    groundtruth = \"positive\" if groundtruth == 0.5 else \"negative\"\n",
    "    print(f\"Text: {text} \\n Predicted Sentiment: {sentiment}\\n Groundtruth: {groundtruth}\\n\\n\")"
   ]
  },
  {
   "cell_type": "markdown",
   "metadata": {},
   "source": [
    "# Word2Vec Embedding"
   ]
  },
  {
   "cell_type": "code",
   "execution_count": 16,
   "metadata": {},
   "outputs": [],
   "source": [
    "from gensim.models import Word2Vec"
   ]
  },
  {
   "cell_type": "code",
   "execution_count": 17,
   "metadata": {},
   "outputs": [],
   "source": [
    "word2vec_model = Word2Vec(sentences=train_data, vector_size=128, window = 5, min_count=1, sg=0)\n",
    "\n",
    "word2vec_model.save(\"word2vec.model\")"
   ]
  },
  {
   "cell_type": "code",
   "execution_count": 18,
   "metadata": {},
   "outputs": [],
   "source": [
    "embedding_matrix = np.zeros((MAX_WORDS, 128))\n",
    "for word,i in tokenizer.word_index.items():\n",
    "    if i < MAX_WORDS:\n",
    "        if word in word2vec_model.wv:\n",
    "            embedding_matrix[i] = word2vec_model.wv[word]"
   ]
  },
  {
   "cell_type": "code",
   "execution_count": 19,
   "metadata": {},
   "outputs": [],
   "source": [
    "# define model\n",
    "# Hyper parameter sama dengan contoh di slide\n",
    "word2vec_model = Sequential()\n",
    "word2vec_model.add(Embedding(input_dim = MAX_WORDS, output_dim = 128, input_length = train_data_tokenized.shape[1], weights= [embedding_matrix], trainable = True ))\n",
    "word2vec_model.add(Bidirectional(LSTM(64, return_sequences=True)))\n",
    "word2vec_model.add(Bidirectional(LSTM(32)))\n",
    "word2vec_model.add(Dense(1,activation='sigmoid'))"
   ]
  },
  {
   "cell_type": "code",
   "execution_count": 20,
   "metadata": {},
   "outputs": [
    {
     "name": "stdout",
     "output_type": "stream",
     "text": [
      "Model: \"sequential_1\"\n",
      "_________________________________________________________________\n",
      " Layer (type)                Output Shape              Param #   \n",
      "=================================================================\n",
      " embedding_1 (Embedding)     (None, 100, 128)          1280000   \n",
      "                                                                 \n",
      " bidirectional_2 (Bidirectio  (None, 100, 128)         98816     \n",
      " nal)                                                            \n",
      "                                                                 \n",
      " bidirectional_3 (Bidirectio  (None, 64)               41216     \n",
      " nal)                                                            \n",
      "                                                                 \n",
      " dense_1 (Dense)             (None, 1)                 65        \n",
      "                                                                 \n",
      "=================================================================\n",
      "Total params: 1,420,097\n",
      "Trainable params: 1,420,097\n",
      "Non-trainable params: 0\n",
      "_________________________________________________________________\n",
      "None\n",
      "\n",
      "\n",
      "Model Visualize\n"
     ]
    },
    {
     "data": {
      "image/png": "[encoded data removed]",
      "text/plain": [
       "<IPython.core.display.Image object>"
      ]
     },
     "execution_count": 20,
     "metadata": {},
     "output_type": "execute_result"
    }
   ],
   "source": [
    "#compile model\n",
    "word2vec_model.compile(loss='binary_crossentropy', optimizer='adam', metrics=['accuracy'])\n",
    "print(word2vec_model.summary())\n",
    "print(\"\\n\\nModel Visualize\")\n",
    "plot_model(word2vec_model, to_file='model_plot.png', show_shapes=True, show_layer_names=True)"
   ]
  },
  {
   "cell_type": "code",
   "execution_count": 21,
   "metadata": {},
   "outputs": [
    {
     "name": "stdout",
     "output_type": "stream",
     "text": [
      "Epoch 1/10\n",
      "25/25 [==============================] - 10s 159ms/step - loss: 0.3424 - accuracy: 0.3875 - val_loss: 0.4760 - val_accuracy: 0.4350\n",
      "Epoch 2/10\n",
      "25/25 [==============================] - 1s 41ms/step - loss: -0.6074 - accuracy: 0.4187 - val_loss: -0.4288 - val_accuracy: 0.4850\n",
      "Epoch 3/10\n",
      "25/25 [==============================] - 1s 41ms/step - loss: -1.6301 - accuracy: 0.5725 - val_loss: -0.3998 - val_accuracy: 0.5300\n",
      "Epoch 4/10\n",
      "25/25 [==============================] - 1s 42ms/step - loss: -2.7812 - accuracy: 0.6400 - val_loss: -1.5984 - val_accuracy: 0.6450\n",
      "Epoch 5/10\n",
      "25/25 [==============================] - 1s 33ms/step - loss: -3.4326 - accuracy: 0.6438 - val_loss: -1.8470 - val_accuracy: 0.6600\n",
      "Epoch 6/10\n",
      "25/25 [==============================] - 1s 26ms/step - loss: -3.8131 - accuracy: 0.6288 - val_loss: -1.5926 - val_accuracy: 0.6050\n",
      "Epoch 7/10\n",
      "25/25 [==============================] - 1s 28ms/step - loss: -4.1677 - accuracy: 0.6225 - val_loss: -2.0577 - val_accuracy: 0.6300\n",
      "Epoch 8/10\n",
      "25/25 [==============================] - 1s 32ms/step - loss: -4.8976 - accuracy: 0.6438 - val_loss: -2.4444 - val_accuracy: 0.6100\n",
      "Epoch 9/10\n",
      "25/25 [==============================] - 1s 24ms/step - loss: -5.1085 - accuracy: 0.6700 - val_loss: -2.5699 - val_accuracy: 0.6550\n",
      "Epoch 10/10\n",
      "25/25 [==============================] - 1s 29ms/step - loss: -4.7798 - accuracy: 0.7063 - val_loss: -1.3582 - val_accuracy: 0.6500\n"
     ]
    },
    {
     "data": {
      "text/plain": [
       "<keras.callbacks.History at 0x2cbb48dcc10>"
      ]
     },
     "execution_count": 21,
     "metadata": {},
     "output_type": "execute_result"
    }
   ],
   "source": [
    "# Train\n",
    "word2vec_model.fit(train_data_tokenized, train_label, epochs=10, batch_size=32, validation_data=(val_data_tokenized, val_label))"
   ]
  },
  {
   "cell_type": "code",
   "execution_count": 22,
   "metadata": {},
   "outputs": [
    {
     "name": "stdout",
     "output_type": "stream",
     "text": [
      "10/10 [==============================] - 0s 17ms/step - loss: -0.7301 - accuracy: 0.6469\n",
      "loss:  -0.7300978899002075\n",
      "accuracy:  0.6468750238418579\n"
     ]
    }
   ],
   "source": [
    "# Evaluate\n",
    "\n",
    "loss, acc = word2vec_model.evaluate(test_data_tokenized, test_label)\n",
    "print(\"loss: \", loss)\n",
    "print(\"accuracy: \", acc)"
   ]
  },
  {
   "cell_type": "code",
   "execution_count": 23,
   "metadata": {},
   "outputs": [
    {
     "name": "stdout",
     "output_type": "stream",
     "text": [
      "1/1 [==============================] - 1s 1s/step\n",
      "Text: sustainable strategy for our sustainable strategy range we incorporate a series of proprietary in order to ensure the performing companies from an esg perspective are not eligible for investment \n",
      " Predicted Sentiment: positive\n",
      " Groundtruth: negative\n",
      "\n",
      "\n",
      "Text: environmental health and safety management system provides a framework for identifying and reducing the risks associated with the environments in which we operate regular management system assessments internal and third party compliance and inspections are performed annually at of facilities worldwide the goal of these assessments is to identify and correct site specific issues and to educate and empower facility managers and supervisors to implement corrective actions environment health and safety efforts are and supported by experienced experts around the world that support our operations and facilities \n",
      " Predicted Sentiment: negative\n",
      " Groundtruth: negative\n",
      "\n",
      "\n",
      "Text: in 2019 the company a series of transactions related to the sale of its canadian fossil fuel based electricity generation business a transaction with heartland generation ltd an of energy capital partners included the sale of 10 partly or fully owned natural gas fired and coal fired electricity generation assets located in alberta and british columbia in two other separate transactions the company sold its 50 per cent ownership interest in the cogeneration station to international and its 50 per cent ownership interest in beach power to power generation \n",
      " Predicted Sentiment: positive\n",
      " Groundtruth: negative\n",
      "\n",
      "\n",
      "Text: which would normally come into effect on january 1 2021 for both businesses the rate was to significant distribution rate increases which would be end use customers due to the approach of rate under the mechanism electricity distribution and natural gas distribution the current economic situation in alberta including the faced by some end use customers due to the covid 19 pandemic as rationale to proceed with these interim rates electricity distribution and natural gas distribution are to an application by march 1 2021 the of the rate and collection timelines expected values including costs and anticipated impacts to customers \n",
      " Predicted Sentiment: negative\n",
      " Groundtruth: negative\n",
      "\n",
      "\n",
      "Text: finally there is a reputational risk linked to the possibility that oil companies may be perceived by institutions and the general public as the entities mainly responsible of the climate change this could possibly make eni’s shares less attractive to investment funds and individual investors who assess the risk profile of companies against their environmental and social footprint when making investment decisions \n",
      " Predicted Sentiment: negative\n",
      " Groundtruth: negative\n",
      "\n",
      "\n"
     ]
    }
   ],
   "source": [
    "# Prediction\n",
    "prediction = word2vec_model.predict(test_data_tokenized[:5])\n",
    "\n",
    "for text, prediction, groundtruth in zip(tokenizer.sequences_to_texts(test_data_tokenized), prediction, test_label[:5]):\n",
    "    sentiment = \"positive\" if prediction > 0.5 else \"negative\"\n",
    "    groundtruth = \"positive\" if groundtruth == 0.5 else \"negative\"\n",
    "    print(f\"Text: {text} \\n Predicted Sentiment: {sentiment}\\n Groundtruth: {groundtruth}\\n\\n\")"
   ]
  },
  {
   "cell_type": "markdown",
   "metadata": {},
   "source": [
    "# Report\n",
    "\n",
    "## Performance\n",
    "\n",
    "- LSTM MODEL\n",
    "\n",
    "    Training Accuracy : 0.71\n",
    "\n",
    "    Test Accuracy : 0.70\n",
    "\n",
    "- LSTM MODEL with Word2Vec Embedding\n",
    "\n",
    "    Training Accuracy : 0.70\n",
    "\n",
    "    Test Accuracy : 0.64\n",
    "    "
   ]
  },
  {
   "cell_type": "markdown",
   "metadata": {},
   "source": []
  }
 ],
 "metadata": {
  "kernelspec": {
   "display_name": "Python 3 (ipykernel)",
   "language": "python",
   "name": "python3"
  },
  "orig_nbformat": 4
 },
 "nbformat": 4,
 "nbformat_minor": 2
}
